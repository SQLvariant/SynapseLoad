{
    "metadata": {
        "kernelspec": {
            "name": "powershell",
            "display_name": "PowerShell"
        },
        "language_info": {
            "name": "powershell",
            "codemirror_mode": "shell",
            "mimetype": "text/x-sh",
            "file_extension": ".ps1"
        }
    },
    "nbformat_minor": 2,
    "nbformat": 4,
    "cells": [
        {"cell_type":"markdown","metadata":{},"source":["<# Update the variables section appropriately for your environment.  \r   \n  Update any reference to ***Change This*** in the variables #>"]},{
  "cell_type": "code",
  "source": [
    "$SubscriptionName = \"***Change This***\" \r\n$ResourceGroupName = \"***Change This***\" \r\n$DataFactoryLocation = \"***Change This***\" \r\n$ScriptLoc = '***Change This***'\r\n$DataFactoryName = \"***Change This***\" \r\n$LinkedServiceName1 = \"AzureSQLDBLnkSvr\"\r\n$LinkedServiceFile1 = \".\\AzureSQLDBLinkedService.json\"\r\n$LinkedServiceName2 = \"ADLSGen2LnkSvr\"\r\n$LinkedServiceFile2 = \".\\ADLSGen2LinkedService.json\"\r\n$LinkedServiceName3 = \"SynapseLnkSvr\"\r\n$LinkedServiceFile3 = \".\\SynapseLinkedService.json\"\r\n\r\nSet-Location $ScriptLoc\r\n\r\nConnect-AzAccount\r\nSelect-AzSubscription -SubscriptionName $SubscriptionName\r\n\r\nSet-AzDataFactoryV2LinkedService -DataFactoryName $DataFactoryName `\r\n    -ResourceGroupName $ResourceGroupName -Name $LinkedServiceName1 `\r\n    -DefinitionFile $LinkedServiceFile1\r\n\r\nSet-AzDataFactoryV2LinkedService -DataFactoryName $DataFactoryName `\r\n    -ResourceGroupName $ResourceGroupName -Name $LinkedServiceName2 `\r\n    -DefinitionFile $LinkedServiceFile2\r\n\r\nSet-AzDataFactoryV2LinkedService -DataFactoryName $DataFactoryName `\r\n    -ResourceGroupName $ResourceGroupName -Name $LinkedServiceName3 `\r\n    -DefinitionFile $LinkedServiceFile3"
  ],
  "metadata": {
    "azdata_cell_guid": "cb96224f-b516-47a2-9113-5dad87037d97"
  },
  "outputs": [
    {
      "text": "",
      "output_type": "stream",
      "name": "stdout"
    }
  ]
}
    ]
}
