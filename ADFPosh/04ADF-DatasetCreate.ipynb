{
    "metadata": {
        "kernelspec": {
            "name": "powershell",
            "display_name": "PowerShell"
        },
        "language_info": {
            "name": "powershell",
            "codemirror_mode": "shell",
            "mimetype": "text/x-sh",
            "file_extension": ".ps1"
        }
    },
    "nbformat_minor": 2,
    "nbformat": 4,
    "cells": [
        {"cell_type":"markdown","metadata":{},"source":["<# Update the variables section appropriately for your environment.  \r   \n  Update any reference to ***Change This*** in the variables #>"]},{
  "cell_type": "code",
  "source": [
    "$SubscriptionName = \"***Change This***\" \r\n$ResourceGroupName = \"***Change This***\" \r\n$DataFactoryLocation = \"***Change This***\" \r\n$ScriptLoc = \"***Change This***\"\r\n$DataFactoryName = \"***Change This***\" \r\n$DatasetName1 = \"LookupMetadataLoad\"\r\n$DatasetFile1 = \".\\DatasetSQLMetadataLoad.json\"\r\n$DatasetName2 = \"SrcADLSFileLoad\"\r\n$DatasetFile2 = \".\\DatasetSrcADLSFileLoad.json\"\r\n$DatasetName3 = \"SinkSynapseTable\"\r\n$DatasetFile3 = \".\\DatasetSinkSynapse.json\"\r\n\r\nSet-Location $ScriptLoc\r\n\r\nConnect-AzAccount\r\n\r\nSelect-AzSubscription -SubscriptionName $SubscriptionName\r\nSet-AzDataFactoryV2Dataset -DataFactoryName $DataFactoryName `\r\n    -ResourceGroupName $ResourceGroupName -Name $DatasetName1 `\r\n    -DefinitionFile $DatasetFile1\r\n\r\nSelect-AzSubscription -SubscriptionName $SubscriptionName\r\nSet-AzDataFactoryV2Dataset -DataFactoryName $DataFactoryName `\r\n    -ResourceGroupName $ResourceGroupName -Name $DatasetName2 `\r\n    -DefinitionFile $DatasetFile2\r\n\r\nSelect-AzSubscription -SubscriptionName $SubscriptionName\r\nSet-AzDataFactoryV2Dataset -DataFactoryName $DataFactoryName `\r\n    -ResourceGroupName $ResourceGroupName -Name $DatasetName3 `\r\n    -DefinitionFile $DatasetFile3"
  ],
  "metadata": {
    "azdata_cell_guid": "a64421df-8701-4a0d-8469-27babdb52460"
  },
  "outputs": [
    {
      "text": "",
      "output_type": "stream",
      "name": "stdout"
    }
  ]
}
    ]
}
