{
    "metadata": {
        "kernelspec": {
            "name": "powershell",
            "display_name": "PowerShell"
        },
        "language_info": {
            "name": "powershell",
            "codemirror_mode": "shell",
            "mimetype": "text/x-sh",
            "file_extension": ".ps1"
        }
    },
    "nbformat_minor": 2,
    "nbformat": 4,
    "cells": [
        {"cell_type":"markdown","metadata":{},"source":["<# Update the variables section appropriately for your environment.  \r   \n  Update any reference to ***Change This*** in the variables #>"]},{
  "cell_type": "code",
  "source": [
    "$SubscriptionName = \"***Change This***\" \r\n$ResourceGroupName = \"***Change This***\" \r\n$DataFactoryLocation = \"***Change This***\" \r\n$DataFactoryName = \"***Change This***\" \r\n$SharedIntegrationRuntimeName = \"***Change This***\" \r\n$SharedIntegrationRuntimeDescription = \"Self Hosted IR to ***Change This***\"\r\n\r\nConnect-AzAccount\r\nSelect-AzSubscription -SubscriptionName $SubscriptionName\r\n\r\nGet-AzDataFactoryV2IntegrationRuntimeKey `\r\n    -ResourceGroupName $ResourceGroupName `\r\n    -DataFactoryName $DataFactoryName `\r\n    -Name $SharedIntegrationRuntimeName"
  ],
  "metadata": {
    "azdata_cell_guid": "fb4d6058-29a6-43cf-ada4-1f128a9cf519"
  },
  "outputs": [
    {
      "text": "",
      "output_type": "stream",
      "name": "stdout"
    }
  ]
}
    ]
}
