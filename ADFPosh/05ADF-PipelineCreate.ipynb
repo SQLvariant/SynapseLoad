{
    "metadata": {
        "kernelspec": {
            "name": "powershell",
            "display_name": "PowerShell"
        },
        "language_info": {
            "name": "powershell",
            "codemirror_mode": "shell",
            "mimetype": "text/x-sh",
            "file_extension": ".ps1"
        }
    },
    "nbformat_minor": 2,
    "nbformat": 4,
    "cells": [
        {"cell_type":"markdown","metadata":{},"source":["<# Update the variables section appropriately for your environment.  \r   \n  Update any reference to ***Change This*** in the variables #>"]},{
  "cell_type": "code",
  "source": [
    "$SubscriptionName = \"***Change This***\" \r\n$ResourceGroupName = \"***Change This***\" \r\n$DataFactoryLocation = \"***Change This***\" \r\n$ScriptLoc = \"***Change This***\"\r\n$DataFactoryName = \"***Change This***\" \r\n$PipelineName1 = \"Synapse Incremental Load\"\r\n$PipelineFile1 = \".\\IncrementalPipelineCreate.json\"\r\n$PipelineName2 = \"Synapse Truncate Load\"\r\n$PipelineFile2 = \".\\Truncate Load Synapse.json\"\r\n\r\n\r\nSet-Location $ScriptLoc\r\n\r\nConnect-AzAccount\r\nSelect-AzSubscription -SubscriptionName $SubscriptionName\r\n\r\n$Pipeline1 = Set-AzDataFactoryV2Pipeline `\r\n    -DataFactoryName $DataFactoryName `\r\n    -ResourceGroupName $ResourceGroupName `\r\n    -Name $PipelineName1 `\r\n    -DefinitionFile $PipelineFile1\r\n\r\n$Pipeline2 = Set-AzDataFactoryV2Pipeline `\r\n    -DataFactoryName $DataFactoryName `\r\n    -ResourceGroupName $ResourceGroupName `\r\n    -Name $PipelineName2 `\r\n    -DefinitionFile $PipelineFile2"
  ],
  "metadata": {
    "azdata_cell_guid": "a447e3d7-7363-4ec3-88da-68524b5a03c7"
  },
  "outputs": [
    {
      "text": "",
      "output_type": "stream",
      "name": "stdout"
    }
  ]
}
    ]
}
